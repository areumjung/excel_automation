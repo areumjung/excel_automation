{
 "cells": [
  {
   "cell_type": "markdown",
   "metadata": {},
   "source": [
    "# Weekly Rolling"
   ]
  },
  {
   "cell_type": "code",
   "execution_count": null,
   "metadata": {},
   "outputs": [],
   "source": [
    "import pandas as pd\n",
    "\n",
    "def brandEquityScore_weekly(file_name, output_filename):\n",
    "    \n",
    "    #Output dataframe\n",
    "    df_score = pd.DataFrame()\n",
    "    \n",
    "    #Output excel file\n",
    "    writer = pd.ExcelWriter(output_filename, engine='xlsxwriter')\n",
    "    workbook = writer.book\n",
    "    \n",
    "    #Metrics label\n",
    "    xls = pd.ExcelFile(file_name, on_demand = True)\n",
    "    equity_metrics = xls.sheet_names[1:]\n",
    "    \n",
    "    #Gathering brand names\n",
    "    label_row = pd.read_excel(file_name, sheet_name=2)\n",
    "    brand_row = label_row.iloc[4,:]\n",
    "    brands = []\n",
    "    for j in brand_row:\n",
    "        if j != 0:\n",
    "            brands.append(j)\n",
    "    brands = brands[1:]\n",
    "    \n",
    "    #looping through each tab\n",
    "    for i, n in enumerate(equity_metrics):\n",
    "        df = pd.read_excel(file_name, skiprows=6 ,sheet_name=i+1, header=[0],index_col='Unnamed: 0')\n",
    "    \n",
    "    #Gather all column names containing either 'Score' or 'Attention'\n",
    "        col = []\n",
    "        for k in df.columns:\n",
    "            if 'Score' in k:\n",
    "                col.append(k)\n",
    "            elif 'Attention' in k:\n",
    "                col.append(k)\n",
    "                \n",
    "        df_score = df.loc[:,col]\n",
    "        df_score.columns = brands\n",
    "    \n",
    "    #Filter Sunday date records            \n",
    "        df_score.index.rename('Week end date')       \n",
    "        df_filter = df_score[df_score.index.dayofweek == 6]\n",
    "    \n",
    "    #Generate an excel file with filtered records\n",
    "        df_output = df_filter.to_excel(writer, sheet_name=n)\n",
    "        \n",
    "    writer.save()\n",
    "    workbook.close()"
   ]
  },
  {
   "cell_type": "markdown",
   "metadata": {},
   "source": [
    "# Melt"
   ]
  },
  {
   "cell_type": "code",
   "execution_count": null,
   "metadata": {},
   "outputs": [],
   "source": [
    "import pandas as pd\n",
    "\n",
    "def brandEquityScore_melt(file_name, output_filename):\n",
    "    \n",
    "    #read the input file into pandas dataframe\n",
    "    equity = pd.ExcelFile(file_name)\n",
    "    \n",
    "    #column headers of the melted output\n",
    "    cols = ['brand', 'date', 'metric', 'score']\n",
    "    #output dataframe with the columns created above\n",
    "    df = pd.DataFrame(columns=cols)\n",
    "    \n",
    "    #collect brand names\n",
    "    brands_df = pd.read_excel(equity, sheet_name=1)\n",
    "    brands = brands_df.columns\n",
    "    \n",
    "    #loop through each tab\n",
    "    for i, n in enumerate(equity.sheet_names):\n",
    "        each = pd.read_excel(equity, sheet_name=i, index_col=None)\n",
    "        \n",
    "    #change the dataframe to non-indexed     \n",
    "        each.reset_index(inplace=True)\n",
    "    #change the column header 'index' to 'date'\n",
    "        each.rename(columns={'index':'date'},inplace=True)\n",
    "    #melt columns    \n",
    "        each_melt = pd.melt(each, id_vars=['date'], value_vars=brands, var_name='brand', value_name='score')\n",
    "    #name each sheet with metric labels    \n",
    "        each_melt['metric'] = equity.sheet_names[i]\n",
    "    #append melted columns into one dataframe\n",
    "        df = df.append(each_melt)\n",
    "    #filter columns from dataframe with appended columns above\n",
    "        df = df[cols]\n",
    "    \n",
    "    #generate an output file in csv format\n",
    "        df.to_csv(output_filename, encoding='utf-8', index = False)"
   ]
  }
 ],
 "metadata": {
  "kernelspec": {
   "display_name": "Python 3",
   "language": "python",
   "name": "python3"
  },
  "language_info": {
   "codemirror_mode": {
    "name": "ipython",
    "version": 3
   },
   "file_extension": ".py",
   "mimetype": "text/x-python",
   "name": "python",
   "nbconvert_exporter": "python",
   "pygments_lexer": "ipython3",
   "version": "3.6.4"
  }
 },
 "nbformat": 4,
 "nbformat_minor": 2
}
