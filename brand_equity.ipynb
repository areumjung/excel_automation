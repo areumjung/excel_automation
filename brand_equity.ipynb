{
 "cells": [
  {
   "cell_type": "markdown",
   "metadata": {},
   "source": [
    "# Weekly Rolling"
   ]
  },
  {
   "cell_type": "code",
   "execution_count": null,
   "metadata": {
    "collapsed": true
   },
   "outputs": [],
   "source": [
    "import pandas as pd\n",
    "#import pdb; pdb.set_trace()\n",
    "\n",
    "def brand_equtiy_score_weekly(file_name):\n",
    "    \n",
    "    df_score = pd.DataFrame()\n",
    "    writer = pd.ExcelWriter('brand_equity_weekly_output.xlsx', engine='xlsxwriter')\n",
    "    workbook = writer.book\n",
    "    xls = pd.ExcelFile(file_name, on_demand = True)\n",
    "    equity_metrics = xls.sheet_names[1:]\n",
    "    \n",
    "    for i, n in enumerate(equity_metrics):\n",
    "        label_row = pd.read_excel(file_name, sheetname=2)\n",
    "        df = pd.read_excel(file_name, skiprows=6 ,sheetname=i+1, header=[0],index_col='Unnamed: 0')\n",
    "        \n",
    "        brand_row = label_row.iloc[4,:]\n",
    "                \n",
    "        b = []\n",
    "        for j in brand_row:\n",
    "            if j != 0:\n",
    "                b.append(j)\n",
    "        \n",
    "        for k in df.columns:\n",
    "            if 'Score' in k:\n",
    "                df_score[k] = df[k] \n",
    "        \n",
    "                \n",
    "        df_score.index.rename('Week end date')       \n",
    "        df_filter = df_score[df_score.index.dayofweek == 6]\n",
    "        \n",
    "        df_filter.columns = b[1:]\n",
    "        df_output = df_filter.to_excel(writer, sheet_name=n)\n",
    "        \n",
    "    writer.save()\n",
    "    workbook.close()"
   ]
  },
  {
   "cell_type": "code",
   "execution_count": null,
   "metadata": {},
   "outputs": [],
   "source": [
    "file_name = 'brand_equity_raw.xlsx'\n",
    "brand_equtiy_score_weekly(file_name)"
   ]
  },
  {
   "cell_type": "markdown",
   "metadata": {},
   "source": [
    "# Monthly Rolling"
   ]
  },
  {
   "cell_type": "code",
   "execution_count": null,
   "metadata": {
    "collapsed": true
   },
   "outputs": [],
   "source": [
    "import pandas as pd\n",
    "from pandas.tseries.offsets import MonthEnd\n",
    "\n",
    "def brand_equtiy_score_monthly(file_name):\n",
    "    \n",
    "    df_score = pd.DataFrame()\n",
    "    writer = pd.ExcelWriter('brand_equity_monthly_output.xlsx', engine='xlsxwriter')\n",
    "    workbook = writer.book\n",
    "    xls = pd.ExcelFile(file_name, on_demand = True)\n",
    "    equity_metrics = xls.sheet_names[1:]\n",
    "    \n",
    "    for i, n in enumerate(equity_metrics):\n",
    "        brand_row = pd.read_excel(file_name, sheetname=2)\n",
    "        df = pd.read_excel(file_name, skiprows=6 ,sheetname=i+1, header=[0],index_col='Unnamed: 0')\n",
    "        \n",
    "        brand_row = brand_row.iloc[4,:]\n",
    "        \n",
    "        b = []\n",
    "        for j in brand_row:\n",
    "            if j != 0:\n",
    "                b.append(j)\n",
    "                \n",
    "        for k in df.columns:\n",
    "            if 'Score' in k:\n",
    "                df_score[k] = df[k] \n",
    "                \n",
    "        df_score.index.rename('Week end date') \n",
    "        df_filter = df_score[df_score.index.is_month_end]\n",
    "                \n",
    "        df_filter.columns = b[1:]\n",
    "        df_output = df_filter.to_excel(writer, sheet_name=n)\n",
    "    writer.save()\n",
    "    workbook.close()"
   ]
  },
  {
   "cell_type": "code",
   "execution_count": null,
   "metadata": {
    "collapsed": true
   },
   "outputs": [],
   "source": [
    "file_name = 'brand_equity_raw.xlsx'\n",
    "brand_equtiy_score_monthly(file_name)"
   ]
  },
  {
   "cell_type": "markdown",
   "metadata": {},
   "source": [
    "# Melt"
   ]
  },
  {
   "cell_type": "code",
   "execution_count": null,
   "metadata": {
    "collapsed": true
   },
   "outputs": [],
   "source": [
    "import pandas as pd\n",
    "\n",
    "def brand_equity_melt(file_name):\n",
    "\n",
    "    brand_equity = pd.ExcelFile(file_name)\n",
    "    df = pd.DataFrame(columns=['brand', 'index', 'metric', 'score'])\n",
    "\n",
    "    for i, n in enumerate(brand_equity.sheet_names):\n",
    "        each = pd.read_excel(brand_equity, sheetname=i, index_col=None)\n",
    "        \n",
    "        each.reset_index(inplace=True)\n",
    "        each.rename(columns={'index':'date'},inplace=True)\n",
    "        each_melt = pd.melt(each, id_vars=['date'], value_vars=all_brand_list, var_name='brand', value_name='score')\n",
    "        \n",
    "        each_melt['metric'] = brand_equity.sheet_names[i]\n",
    "        df = df.append(each_melt)\n",
    "        df = df[['brand', 'date', 'metric', 'score']]\n",
    "        \n",
    "        df.to_csv('melt.csv', encoding='utf-8', index = False)"
   ]
  },
  {
   "cell_type": "code",
   "execution_count": null,
   "metadata": {
    "collapsed": true
   },
   "outputs": [],
   "source": [
    "brand_equity_melt('brand_equity_melt_output.xlsx')"
   ]
  }
 ],
 "metadata": {
  "kernelspec": {
   "display_name": "Python 3",
   "language": "python",
   "name": "python3"
  },
  "language_info": {
   "codemirror_mode": {
    "name": "ipython",
    "version": 3
   },
   "file_extension": ".py",
   "mimetype": "text/x-python",
   "name": "python",
   "nbconvert_exporter": "python",
   "pygments_lexer": "ipython3",
   "version": "3.6.3"
  }
 },
 "nbformat": 4,
 "nbformat_minor": 2
}
