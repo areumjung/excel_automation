{
 "cells": [
  {
   "cell_type": "code",
   "execution_count": 34,
   "metadata": {},
   "outputs": [],
   "source": [
    "import pandas as pd\n",
    "\n",
    "def kindle_reorg(path):\n",
    "\n",
    "    df = pd.read_csv(\"kindle_export.csv\", header=None)\n",
    "\n",
    "    length = df.shape[0]\n",
    "\n",
    "    quotes = pd.DataFrame()\n",
    "    for i in range(0,length,4):\n",
    "        quotes = quotes.append(df.iloc[i,:])\n",
    "\n",
    "    books = pd.DataFrame()\n",
    "    for i in range(2,length,4):\n",
    "        books = books.append(df.iloc[i,:])\n",
    "\n",
    "    loc_time = pd.DataFrame()\n",
    "    for i in range(3,length,4):\n",
    "        loc_time = loc_time.append(df.iloc[i,:])\n",
    "\n",
    "    location = loc_time[0].apply(lambda x: x.split(\"|\")[0].split(\" \")[-2])\n",
    "    location = location.apply(lambda x: \"'\"+ x)\n",
    "\n",
    "    date = loc_time.iloc[:,0].apply(lambda x: \" \".join(x.split(\"|\")[1].split(\" \")[4:7]))\n",
    "    time = loc_time.iloc[:,0].apply(lambda x: \" \".join(x.split(\"|\")[1].split(\" \")[7:]))\n",
    "\n",
    "    dt = date + \" \" + time\n",
    "    dt_df = pd.to_datetime(dt)\n",
    "\n",
    "    quotes = quotes.reset_index()\n",
    "    books = books.reset_index()\n",
    "    location = location.reset_index()\n",
    "    dt_df = dt_df.reset_index()\n",
    "\n",
    "    output = pd.concat([quotes, books, location, dt_df], axis=1)\n",
    "\n",
    "    output = output.iloc[:,[1,3,5,7]]\n",
    "    cols = ['Quotes', 'Title', 'Location', 'Time']\n",
    "    output.columns = cols\n",
    "    output = output.set_index('Time')\n",
    "    \n",
    "    output.to_csv('output.csv')"
   ]
  },
  {
   "cell_type": "code",
   "execution_count": 35,
   "metadata": {},
   "outputs": [
    {
     "data": {
      "text/plain": [
       "'C:\\\\Users\\\\areum.jung\\\\Desktop\\\\Areum\\\\kindle'"
      ]
     },
     "execution_count": 35,
     "metadata": {},
     "output_type": "execute_result"
    }
   ],
   "source": [
    "pwd"
   ]
  },
  {
   "cell_type": "code",
   "execution_count": 36,
   "metadata": {},
   "outputs": [],
   "source": [
    "kindle_reorg('C:\\\\Users\\\\areum.jung\\\\Desktop\\\\Areum\\\\kindle')"
   ]
  }
 ],
 "metadata": {
  "kernelspec": {
   "display_name": "Python 3",
   "language": "python",
   "name": "python3"
  },
  "language_info": {
   "codemirror_mode": {
    "name": "ipython",
    "version": 3
   },
   "file_extension": ".py",
   "mimetype": "text/x-python",
   "name": "python",
   "nbconvert_exporter": "python",
   "pygments_lexer": "ipython3",
   "version": "3.7.1"
  }
 },
 "nbformat": 4,
 "nbformat_minor": 2
}
