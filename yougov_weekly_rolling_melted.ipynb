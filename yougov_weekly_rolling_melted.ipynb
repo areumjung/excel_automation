{
 "cells": [
  {
   "cell_type": "code",
   "execution_count": null,
   "metadata": {},
   "outputs": [],
   "source": [
    "import pandas as pd\n",
    "\n",
    "def brandEquityScore_weekly(file_name, output_filename):\n",
    "    \n",
    "    #Output dataframe\n",
    "    df_score = pd.DataFrame()\n",
    "    \n",
    "    #Metrics label\n",
    "    xls = pd.ExcelFile(file_name, on_demand = True)\n",
    "    equity_metrics = xls.sheet_names[1:]\n",
    "    \n",
    "    #Gathering brand names\n",
    "    label_row = pd.read_excel(file_name, sheet_name=2)\n",
    "    brand_row = label_row.iloc[4,:]\n",
    "    brands = []\n",
    "    for j in brand_row:\n",
    "        if j != 0:\n",
    "            brands.append(j)\n",
    "    brands = brands[1:]\n",
    "    \n",
    "    \n",
    "    df_score_melted = pd.DataFrame()\n",
    "    #looping through each tab\n",
    "    for i, n in enumerate(equity_metrics):\n",
    "        df = pd.read_excel(file_name, skiprows=6 ,sheet_name=i+1, header=[0], index_col='Unnamed: 0')\n",
    "    \n",
    "    #Gather all column names containing either 'Score' or 'Attention'\n",
    "        col = []\n",
    "        for k in df.columns:\n",
    "            if 'Score' in k:\n",
    "                col.append(k)\n",
    "            elif 'Attention' in k:\n",
    "                col.append(k)\n",
    "                \n",
    "        df_score = df.loc[:,col]\n",
    "        df_score.columns = brands\n",
    "        \n",
    "        df_score.index.rename('Week end date')       \n",
    "        df_score = df_score[df_score.index.dayofweek == 6] \n",
    "        \n",
    "        df_score.reset_index(inplace=True)\n",
    "        df_score.rename(columns={'index':'date'},inplace=True)\n",
    "        \n",
    "        df_tab_melt = pd.melt(df_score, id_vars=['date'], value_vars=brands, var_name='brand', value_name='score')\n",
    "        df_tab_melt['metric'] = xls.sheet_names[i+1]\n",
    "        \n",
    "        df_score_melted = df_score_melted.append(df_tab_melt)\n",
    "    \n",
    "    df_score_melted.to_csv(output_filename, encoding='utf-8', index = False)"
   ]
  }
 ],
 "metadata": {
  "kernelspec": {
   "display_name": "Python 3",
   "language": "python",
   "name": "python3"
  },
  "language_info": {
   "codemirror_mode": {
    "name": "ipython",
    "version": 3
   },
   "file_extension": ".py",
   "mimetype": "text/x-python",
   "name": "python",
   "nbconvert_exporter": "python",
   "pygments_lexer": "ipython3",
   "version": "3.6.4"
  }
 },
 "nbformat": 4,
 "nbformat_minor": 2
}
