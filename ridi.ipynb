{
 "cells": [
  {
   "cell_type": "code",
   "execution_count": 38,
   "metadata": {},
   "outputs": [],
   "source": [
    "import pandas as pd\n",
    "\n",
    "def ridi_reorg(excel_file):\n",
    "    \n",
    "    df = pd.read_excel(excel_file, header=None)\n",
    "    \n",
    "    length = df.shape[0]\n",
    "\n",
    "    quotes = pd.DataFrame()\n",
    "    for i in range(0,length,2):\n",
    "        quotes = quotes.append(df.iloc[i,:])\n",
    "\n",
    "\n",
    "    loc_time = pd.DataFrame()\n",
    "    for i in range(1,length,2):\n",
    "        loc_time = loc_time.append(df.iloc[i,:])\n",
    "\n",
    "\n",
    "    date_loc = loc_time[0].apply(lambda x: x.replace(\".\", \"-\")[:-1])\n",
    "    date_loc_dt = pd.to_datetime(date_loc)\n",
    "\n",
    "    quotes = quotes.reset_index()\n",
    "    date_loc_dt = date_loc_dt.reset_index()\n",
    "\n",
    "    output = pd.concat([date_loc_dt, quotes], axis=1)\n",
    "    output = output.iloc[:,[1,3]]\n",
    "\n",
    "    cols = ['Time', 'Quotes']\n",
    "    output.columns = cols\n",
    "    output = output.set_index('Time')\n",
    "    output.to_csv('output.csv', encoding='utf-16')\n",
    "    output.to_excel('output.xlsx', encoding='utf-16')"
   ]
  }
 ],
 "metadata": {
  "kernelspec": {
   "display_name": "Python 3",
   "language": "python",
   "name": "python3"
  },
  "language_info": {
   "codemirror_mode": {
    "name": "ipython",
    "version": 3
   },
   "file_extension": ".py",
   "mimetype": "text/x-python",
   "name": "python",
   "nbconvert_exporter": "python",
   "pygments_lexer": "ipython3",
   "version": "3.7.1"
  }
 },
 "nbformat": 4,
 "nbformat_minor": 2
}
