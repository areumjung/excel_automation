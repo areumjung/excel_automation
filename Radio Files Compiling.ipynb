{
 "cells": [
  {
   "cell_type": "markdown",
   "metadata": {},
   "source": [
    "## Radio Files - from Radio Team"
   ]
  },
  {
   "cell_type": "code",
   "execution_count": null,
   "metadata": {},
   "outputs": [],
   "source": [
    "import glob, os\n",
    "import pandas as pd\n",
    "\n",
    "def file_compile(directory, radio_mapping, output):\n",
    "    \n",
    "    os.chdir(directory)\n",
    "    radio_df = pd.DataFrame()\n",
    "    \n",
    "    radio_mapping = pd.read_csv(radio_mapping)\n",
    "    \n",
    "    \n",
    "    for file in glob.glob(\"*.xlsx\"):\n",
    "        base = os.path.basename(file)\n",
    "        filename = os.path.splitext(base)\n",
    "        \n",
    "        radio_s = pd.ExcelFile(file, on_demand = True)\n",
    "        radio_sheet = radio_s.sheet_names[:]\n",
    "        \n",
    "        for i, j in enumerate(radio_sheet):\n",
    "            radio = pd.read_excel(base, sheet_name=i, header=0)\n",
    "            radio['campaign'] = filename[0]\n",
    "            radio['date'] = radio_sheet[i].split(' ')[0]\n",
    "            radio['date'] = radio['date'] + '.18'\n",
    "            radio['date'] = pd.to_datetime(radio['date'])\n",
    "            #radio['date'] = radio['date'] + '/2018'\n",
    "            radio['status'] = radio_sheet[i].split(' ')[1]\n",
    "            radio_df = radio_df.append(radio)\n",
    "        \n",
    "    radio_df['Market'] = radio_df['Market'].apply(lambda x: x.split('[')[0])\n",
    "    radio_df = radio_df.merge(radio_mapping, how='left')\n",
    "    radio_df['status'].replace('Deliverd', 'Delivered', inplace=True)\n",
    "    radio_df['status'].replace('Orderd', 'Ordered', inplace=True)\n",
    "    radio_df = radio_df[['date','Market','DMA ID', 'campaign', 'status','GRPs']]\n",
    "    radio_df.to_csv(\"radio_output.csv\")"
   ]
  },
  {
   "cell_type": "markdown",
   "metadata": {},
   "source": [
    "## Occurence File - from iHeart Radio"
   ]
  },
  {
   "cell_type": "code",
   "execution_count": null,
   "metadata": {},
   "outputs": [],
   "source": [
    "import pandas as pd\n",
    "import numpy as np\n",
    "\n",
    "def iHeart_occurence(iHeart_file, iHeart_mapping, output):\n",
    "    \n",
    "    occ = pd.read_excel(iHeart_file, skiprows=2, header=0)\n",
    "    occ.columns = ['date_col', 'A18+', 'A25-54', 'A65+']\n",
    "    \n",
    "    occ['dma_col'] = occ['date_col']\n",
    "    occ['dma_one'] = occ.dma_col.apply(lambda x: x.split('-')[0])\n",
    "    occ['dma_two'] = occ.dma_col.apply(lambda x: x.split('/')[0])\n",
    "    \n",
    "    occ.dma_two.replace(['1','2','3'], np.nan, inplace=True)\n",
    "    occ.dma_two.ffill(axis=0, inplace=True)\n",
    "    \n",
    "    occ.drop(['dma_col', 'dma_one'], axis=1, inplace=True)\n",
    "    occ.rename(columns={'dma_two':'Market'}, inplace=True)\n",
    "    \n",
    "    #occ.date_col.unique()\n",
    "    dma_list = ['Atlanta', 'Austin', 'Baltimore', 'Boston', 'Charlotte', 'Chicago', 'Cincinnati', \n",
    "                'Cleveland', 'Columbus, OH', 'Dallas-Ft.Worth', 'Denver', 'Detroit', 'Greensboro',\n",
    "                'Hartford', 'Houston', 'Indianapolis', 'Jacksonville', 'Kansas City', 'Las Vegas', \n",
    "                'Los Angeles', 'Memphis', 'Miami', 'Middlesex', 'Milwaukee', 'Minneapolis', 'Nashville',\n",
    "                'Nassau-Suffolk', 'New York', 'Norfolk', 'Orlando', 'Philadelphia', 'Phoenix',\n",
    "                'Pittsburgh', 'Portland, OR', 'Providence', 'Raleigh-Durham', 'Riverside-San Bernardino', \n",
    "                'Sacramento', 'Salt Lake City', 'San Antonio', 'San Diego', 'San Francisco', 'San Jose',\n",
    "                'Seattle', 'St. Louis', 'Tampa-St. Petersburg', 'Washington, DC', 'West Palm Beach']\n",
    "    \n",
    "    for i in occ.date_col:\n",
    "        if i in dma_list:\n",
    "            occ = occ[occ['date_col'] != i]\n",
    "    \n",
    "    occ['date'] = occ['date_col'].apply(lambda x: x.split('-')[0])\n",
    "    occ = occ[occ['date'] != 'Grand Total']\n",
    "    occ['date'] = pd.to_datetime(occ['date'])\n",
    "    \n",
    "    occ['Total GRP'] = occ['A18+'] + occ['A25-54'] + occ['A65+']\n",
    "    \n",
    "    occurence_mapping = pd.read_csv(iHeart_mapping)\n",
    "    occ = occ.merge(occurence_mapping, how='left')\n",
    "    \n",
    "    #occ.columns\n",
    "    occ = occ[[ 'date','Market','DMA ID','Total GRP','A18+','A25-54', 'A65+']]\n",
    "    \n",
    "    occ.to_csv(output)"
   ]
  },
  {
   "cell_type": "code",
   "execution_count": null,
   "metadata": {},
   "outputs": [],
   "source": []
  }
 ],
 "metadata": {
  "kernelspec": {
   "display_name": "Python 3",
   "language": "python",
   "name": "python3"
  },
  "language_info": {
   "codemirror_mode": {
    "name": "ipython",
    "version": 3
   },
   "file_extension": ".py",
   "mimetype": "text/x-python",
   "name": "python",
   "nbconvert_exporter": "python",
   "pygments_lexer": "ipython3",
   "version": "3.6.4"
  }
 },
 "nbformat": 4,
 "nbformat_minor": 2
}
